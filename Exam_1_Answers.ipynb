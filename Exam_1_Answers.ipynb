{
 "cells": [
  {
   "cell_type": "markdown",
   "metadata": {},
   "source": [
    "Problem 2\n",
    "'-l' shows the owners of each file\n",
    "For the size I used '-s' and human readable '-h'\n",
    "\n",
    "The files can be read and written by owner or the group. Everyone alse can only read."
   ]
  },
  {
   "cell_type": "code",
   "execution_count": 5,
   "metadata": {},
   "outputs": [
    {
     "name": "stdout",
     "output_type": "stream",
     "text": [
      "total 1200\n",
      "-rw-rw-r-- 1 osboxes osboxes    1001 Sep 10 07:04 Exam_1_Answers.ipynb\n",
      "-rw-rw-r-- 1 osboxes osboxes    1066 Sep  5 11:06 LICENSE\n",
      "-rw-rw-r-- 1 osboxes osboxes 1212464 Sep 10 07:01 Locus_Germplasm_Phenotype_20130122.txt\n",
      "-rw-rw-r-- 1 osboxes osboxes    1993 Sep  5 11:09 My answers.ipynb\n"
     ]
    }
   ],
   "source": [
    "ls -l\n",
    "ls -sh"
   ]
  },
  {
   "cell_type": "markdown",
   "metadata": {},
   "source": [
    "Problem 3\n",
    "'head -1' will outup only the first line, the headline"
   ]
  },
  {
   "cell_type": "code",
   "execution_count": 7,
   "metadata": {},
   "outputs": [
    {
     "name": "stdout",
     "output_type": "stream",
     "text": [
      "Locus_name)\tGermplasm_name\tphenotype\tpubmed_id\n"
     ]
    }
   ],
   "source": [
    "head -1 Locus_Germplasm_Phenotype_20130122.txt\n"
   ]
  },
  {
   "cell_type": "markdown",
   "metadata": {},
   "source": [
    "Problem 4\n"
   ]
  },
  {
   "cell_type": "code",
   "execution_count": 116,
   "metadata": {},
   "outputs": [
    {
     "name": "stdout",
     "output_type": "stream",
     "text": [
      "7216 Locus_Germplasm_Phenotype_20130122.txt\n"
     ]
    }
   ],
   "source": [
    "wc -l Locus_Germplasm_Phenotype_20130122.txt"
   ]
  },
  {
   "cell_type": "markdown",
   "metadata": {},
   "source": [
    "Problem 5\n",
    "I can pick up only the last 7215 lines which will exclude the first (headline)."
   ]
  },
  {
   "cell_type": "code",
   "execution_count": 131,
   "metadata": {},
   "outputs": [
    {
     "name": "stdout",
     "output_type": "stream",
     "text": [
      "7215 Data_Only.csv\n"
     ]
    }
   ],
   "source": [
    "tail -7215 Locus_Germplasm_Phenotype_20130122.txt > Data_Only.csv\n",
    "wc -l Data_Only.csv"
   ]
  },
  {
   "cell_type": "markdown",
   "metadata": {},
   "source": [
    "Problem 6\n",
    "I have to search for the combination of root followed by space to avoid \"roots\" "
   ]
  },
  {
   "cell_type": "code",
   "execution_count": 25,
   "metadata": {},
   "outputs": [
    {
     "name": "stdout",
     "output_type": "stream",
     "text": [
      "AT1G01550\tbps1-2\tGrowth of bps1-2 mutants on CPTA-supplemented medium resulted in partial rescue of both leaf and \u001b[01;31m\u001b[Kroot \u001b[m\u001b[Kdefects. bps1-2 mutants grown on control growth medium have small radialized leaves with very little vascular tissue, and very short misshapen knotted-looking roots. By contrast, bps1-2 mutants grown on CPTA-supplemented medium produced larger flattened leaves that contained primary and secondary veins, and smooth elongated roots.\t17217459\n",
      "AT1G01550\tbps1-2\tMutant roots were abnormal; primary and lateral roots were short, \u001b[01;31m\u001b[Kroot \u001b[m\u001b[Khairs formed close to the \u001b[01;31m\u001b[Kroot \u001b[m\u001b[Kapex, and \u001b[01;31m\u001b[Kroot \u001b[m\u001b[Kdefects were most severe when plants were grown at low temperature.\t15458645\n",
      "AT1G01550\tbps1-2\tUnder high light conditions (approximately 200 &mu;E.m-2.sec-1), CPTA-treated seedlings were completely photobleached and mutants showed rescue of both leaf and \u001b[01;31m\u001b[Kroot \u001b[m\u001b[Kdevelopment. Under moderate (approximately 100 &mu;E.m-2.sec-1) and low (30 &mu;E.m-2.sec-1) light intensities, seedlings are incompletely photobleached, but leaf and \u001b[01;31m\u001b[Kroot \u001b[m\u001b[Kdevelopment continue to show partial rescue.\t17217459\n",
      "AT1G02970\twee1-1\tsignificant decreased \u001b[01;31m\u001b[Kroot \u001b[m\u001b[Kelongation rates, densely clustered hairs at the \u001b[01;31m\u001b[Kroot \u001b[m\u001b[Ktip and outgrowth of lateral roots\t17209125\n",
      "AT1G03000\tpex6\tResistant to \u001b[01;31m\u001b[Kroot \u001b[m\u001b[Kelongation inhibition by IBA but responds normally to IAA.  Fails to respond to the stimulatory effects of IBA on lateral \u001b[01;31m\u001b[Kroot \u001b[m\u001b[Kinitiation but makes lateral roots in response to IAA.  Specifically defective in IBA responses.  Has several peroxisome-defective phenotypes:  does not develop normally without exogenous sucrose, dramatic defects in hypocotyl and \u001b[01;31m\u001b[Kroot \u001b[m\u001b[Kelongation in the absence of sucrose. Shorter \u001b[01;31m\u001b[Kroot \u001b[m\u001b[Kand hypocotyl than WT.  Plants grown in soil have smaller rosettes, fewer rosette leaves, and shorter primary inflorescence stems than WT.  Also has shorter siliques containing fewer seeds than WT.  Pale green in color.\t14745029\n",
      "AT1G03060\tspi-11\tTrichome cells have shorter branches, reduced stalk length and width.  Epidermal pavement cells are less complex, with less lobing.  \u001b[01;31m\u001b[KRoot \u001b[m\u001b[Khairs are shorter and \u001b[01;31m\u001b[Kroot \u001b[m\u001b[Khair vacuoles are fragmented.\t19392685\n",
      "AT1G03060\tspi-12\tTrichome cells have shorter branches, reduced stalk length and width.  Epidermal pavement cells are less complex, with less lobing.  \u001b[01;31m\u001b[KRoot \u001b[m\u001b[Khairs are shorter and \u001b[01;31m\u001b[Kroot \u001b[m\u001b[Khair vacuoles are fragmented.\t19392685\n",
      "AT1G03060\tspi-139\tTrichome cells have shorter branches, reduced stalk length and width.  Epidermal pavement cells are less complex, with less lobing.  \u001b[01;31m\u001b[KRoot \u001b[m\u001b[Khairs are shorter and \u001b[01;31m\u001b[Kroot \u001b[m\u001b[Khair vacuoles are fragmented.\t19392685\n",
      "AT1G03060\tspi-4.2\tTrichome cells have shorter branches, reduced stalk length and width.  Epidermal pavement cells are less complex, with less lobing.  \u001b[01;31m\u001b[KRoot \u001b[m\u001b[Khairs are shorter and \u001b[01;31m\u001b[Kroot \u001b[m\u001b[Khair vacuoles are fragmented.\t19392685\n",
      "AT1G04020\tbard1-3\tMutant meristems develop abnormally.The meristem is enlarged shortly after germination and appears disorganized. Primordia are irregular and lateral organs produced include tubular and finger-like structures. Also affects the development of roots. Primary \u001b[01;31m\u001b[Kroot \u001b[m\u001b[Kgrowth is inhibited. The \u001b[01;31m\u001b[Kroot \u001b[m\u001b[Kapical meristems are enlarged and lack distinct columella cells or starch granules.\t18591352\n",
      "AT1G04030\tbard1-3\tMutant meristems develop abnormally.The meristem is enlarged shortly after germination and appears disorganized. Primordia are irregular and lateral organs produced include tubular and finger-like structures. Also affects the development of roots. Primary \u001b[01;31m\u001b[Kroot \u001b[m\u001b[Kgrowth is inhibited. The \u001b[01;31m\u001b[Kroot \u001b[m\u001b[Kapical meristems are enlarged and lack distinct columella cells or starch granules.\t18591352\n",
      "AT1G04160\tCS859930\tThere are no obvious defects in the aerial tissues, roots, or \u001b[01;31m\u001b[Kroot \u001b[m\u001b[Khairs of xi-b mutant plants grown under normal conditions. There are also no obvious defects in organelle trafficking. Double mutant analysis reveals a role for xi-b in \u001b[01;31m\u001b[Kroot \u001b[m\u001b[Khair elongation (see xi-2/xi-b).\t18178669\n",
      "AT1G04160\tSALK_113062C\tThere are no obvious defects in the aerial tissues, roots, or \u001b[01;31m\u001b[Kroot \u001b[m\u001b[Khairs of xi-b mutant plants grown under normal conditions. There are also no obvious defects in organelle trafficking. Double mutant analysis reveals a role for xi-b in \u001b[01;31m\u001b[Kroot \u001b[m\u001b[Khair elongation (see xi-2/xi-b)\t18178669\n",
      "AT1G04160\txi-2 / xi-b\tThe overall growth of the xi-2 / xi-b double mutant is normal. In the leaf epidermis, Golgi stacks and peroxisomes move more slowly in these mutant cells than in wild-type cells. The rate of mitochondrial movement is also slightly reduced. \u001b[01;31m\u001b[KRoot \u001b[m\u001b[Khair length is reduced to ~15% of the wild type \u001b[01;31m\u001b[Kroot \u001b[m\u001b[Khair length in these double mutants, but their \u001b[01;31m\u001b[Kroot \u001b[m\u001b[Khair density is very similar to the wild type density.\t19060218\n",
      "AT1G04220\tdaisy-2\tsignificantly reduced \u001b[01;31m\u001b[Kroot \u001b[m\u001b[Kgrowth\t18786002\n",
      "AT1G04250\tCS57505\tThe mutant is less affected by brassinolide than wildtype with regard to inhibition of \u001b[01;31m\u001b[Kroot \u001b[m\u001b[Kelongation.\t16367964\n",
      "AT1G05180\tAXL/axl-1 axr1-12\tThe columella of AXL/axl-1 axr1-12/axr1-12 \u001b[01;31m\u001b[Kroot \u001b[m\u001b[Ktips is highly disorganized during early seedling \u001b[01;31m\u001b[Kroot \u001b[m\u001b[Kgrowth, and is completely disrupted at the time when \u001b[01;31m\u001b[Kroot \u001b[m\u001b[Kgrowth ceases.\t17655650\n",
      "AT1G05180\tCS8038\tauxin resistant; irregular rosette leaves, slightly curled around leaf axis; roots very auxin resistant; defective \u001b[01;31m\u001b[Kroot \u001b[m\u001b[Kgravitropism; reduced number of lateral roots; plant appearance similar to axr1-12, but more pronounced; dwarf, bushy plants; reduced plant height; reduced fertility.\t7704045\n",
      "AT1G05850\tpom1-7\tWhen grown on media containing 0.5% sucrose, the mutant had reduced \u001b[01;31m\u001b[Kroot \u001b[m\u001b[Klength but no apparent radial cell expansion.\t7743935\n",
      "AT1G05850\tpom1-8\tWhen grown on media containing 0.5% sucrose, the mutant had reduced \u001b[01;31m\u001b[Kroot \u001b[m\u001b[Klength but no apparent radial cell expansion.\t7743935\n",
      "AT1G06290\tacx3-2\tPlants display decreased sensitivity to the inhibitory effect of indole-3-butyric acid (IBA) on \u001b[01;31m\u001b[Kroot \u001b[m\u001b[Kelongation, while remaining sensitive to inhibitory concentrations of indole-3-acetic acid.  They maintain their ability to initiate lateral roots in response to IBA.\t15743450\n",
      "AT1G06290\tacx3-4\tPlants display decreased sensitivity to the inhibitory effect of indole-3-butyric acid (IBA) on \u001b[01;31m\u001b[Kroot \u001b[m\u001b[Kelongation, while remaining sensitive to inhibitory concentrations of indole-3-acetic acid.  They maintain their ability to initiate lateral roots in response to IBA.\t15743450\n",
      "AT1G08030\tSALK_009847\tSeedlings of tpst-1 had stunted roots and smaller cotyledons compared with the WT.  tpst-1 has an abnormally shaped \u001b[01;31m\u001b[Kroot \u001b[m\u001b[Kapical meristem due to disorganized cell division and expansion. At 15 days after germination, the leaves of the tpst-1 plants are small and pale green, the number of higher order veins is reduced, and the secondary veins often do not close.  At the flowering stage, tpst-1 has smaller rosettes, tiny leaves showing early senescence, shorter inflorescence, and a reduced number of flowers and siliques. The fertility and seed set of tpst-1 are normal.\t19666544\n",
      "AT1G08260\ttilted1-4\tTwenty-five percent of embryos show abnormal cell divisions during embryogenesis-large cells- decreased rate of cell division. Division of the hypohyseal cell abnormal leading to abnormal placement of the \u001b[01;31m\u001b[Kroot \u001b[m\u001b[Kpole. Homozygotes show delayed flowering, abnormal floraly phyllotaxy and abnormal ovules.\t16278345\n",
      "AT1G08370\tdcp1-2\tThe homozygous progeny is seedling lethal, showed arrested postembryonic development including cotyledon expansion, development of vascular networks, \u001b[01;31m\u001b[Kroot \u001b[m\u001b[Kelongation, and shoot development.\t17485080\n",
      "AT1G08430\tAtalm1-KO\tThe mutant exhibits very low levels of \u001b[01;31m\u001b[Kroot \u001b[m\u001b[K growth and malate release in the presence of  Al (0.2 nmol plant-1 24 h-1).\n"
     ]
    },
    {
     "name": "stdout",
     "output_type": "stream",
     "text": [
      "AT1G09100\trpt5b\tInsensitive to high-glucose repression of cotyledon expansion, chlorophyll accumulation, true-leaf development and \u001b[01;31m\u001b[Kroot \u001b[m\u001b[Kelongation. The response is specific to glucose but not to osmotic changes.\t17081979\n",
      "AT1G09110\trpt5b\tInsensitive to high-glucose repression of cotyledon expansion, chlorophyll accumulation, true-leaf development and \u001b[01;31m\u001b[Kroot \u001b[m\u001b[Kelongation. The response is specific to glucose but not to osmotic changes.\t17081979\n",
      "AT1G10130\teca3-1\tShoot and \u001b[01;31m\u001b[Kroot \u001b[m\u001b[Kgrowth is strongly retarded when plants are grown in the absence of Mn.  Also shows delayed growth when grown in the absence of Ca.\t18024560\n",
      "AT1G10570\tots1-1 ots2-1\tThe ots1-1 ots2-1 double mutant plants flower earlier than wild type plants under long days and short days. They do not differ notably from wild type plants with respect to their overall growth rate, inflorescence structure, or seedling primary \u001b[01;31m\u001b[Kroot \u001b[m\u001b[Kelongation rate. But, they are hypersensitive to salt based on \u001b[01;31m\u001b[Kroot \u001b[m\u001b[Kelongation assays. They also have a higher level of SUMOylated proteins than wild type seedlings exposed to salt stress.\t18849491\n",
      "AT1G11130\tscm-1\tPosition of root-hair cells is scrambled.  Only 66% of epidermal cells (compared with 92% in wild type) overlying two cortical cells develop as \u001b[01;31m\u001b[Kroot \u001b[m\u001b[Khairs, and 21% of epidermal cells overlying one cortical cell (compared with 1% in wild type) develop as \u001b[01;31m\u001b[Kroot \u001b[m\u001b[Khairs.\t15618487\n",
      "AT1G15550\tga3ox1-3 ga3ox2-1\tSevere defect in \u001b[01;31m\u001b[Kroot \u001b[m\u001b[Klength.\t16460513\n",
      "AT1G15690\tavp1-1\tShoot defects include: smaller leaves, decreased cell number in leaves, mesophyll and vascular patterning disorganized, cup-shaped cotyledons.\u001b[01;31m\u001b[KRoot \u001b[m\u001b[Kdefects: small cells at apex, columella cell layers reduced to 2, deformed \u001b[01;31m\u001b[Kroot \u001b[m\u001b[Kcap.\t16210544\n",
      "AT1G16150\twakl4-1\tSeedlings consistently show retarded \u001b[01;31m\u001b[Kroot \u001b[m\u001b[Kgrowth when grown in full- or one-half-strength MS nutrients and are hypersensitive, as assayed by a \u001b[01;31m\u001b[Kroot \u001b[m\u001b[Kelongation assay, to Na+, K+, Zn2+ and Cu2+.\t16286448\n",
      "AT1G17170\tgst\tAs for the \u001b[01;31m\u001b[Kroot \u001b[m\u001b[Kgrowth assay, the \u001b[01;31m\u001b[Kroot \u001b[m\u001b[Kelongation of both the mutant and the wild-type was inhibited at lower concentrations of TNT than 2,6-DNT. In addition, there was no statistically significant difference of the \u001b[01;31m\u001b[Kroot \u001b[m\u001b[Kelongation between the gst mutant and the wild-type exposed to different concentrations of 2,6-DNT and TNT from t-test.\n",
      "AT1G17580\tSALK_019031C\tThere are no obvious defects in the aerial tissues, roots, or \u001b[01;31m\u001b[Kroot \u001b[m\u001b[Khairs of xi-1 mutant plants grown under normal conditions. There are also no obvious defects in organelle trafficking, except for a slight effect on peroxisome movement. Double mutant analysis reveals a greater role for XI-1 in organelle movement and plant development (see xik-2/xi-1).\t18178669\n",
      "AT1G17580\txi-k / xi-1\tThe xi-k / xi-1 double mutant plants are shorter and have smaller rosettes than wild type plants. Their reduced leaf size results from decreased cell size and decreased cell number. These double mutants produce fewer seeds per silique than wild type plants. In the leaf epidermis, Golgi stacks, peroxisomes, and mitochondria move more slowly in these mutant cells than in wild-type cells. \u001b[01;31m\u001b[KRoot \u001b[m\u001b[Khair length is reduced to ~35% of the wild type \u001b[01;31m\u001b[Kroot \u001b[m\u001b[Khair length in these double mutants, but their \u001b[01;31m\u001b[Kroot \u001b[m\u001b[Khair density is very similar to the wild type density.\t19060218\n",
      "AT1G18800\tnrp1-1 nrp2-1\tDouble mutant plants showed a short-\u001b[01;31m\u001b[Kroot \u001b[m\u001b[Kphenotype: roots grew like the wild-type roots until 6 d after germination (DAG). However, after 7 DAG, the elongation of the double mutant roots was dramatically reduced compared with the wild-type roots. The aerial organs (leaves, rosettes, inflorescences, flowers, fruits, and embryos) developed normally in the double mutant plants.\n",
      "AT1G19220\tCS24625\tThe phenotype of the double mutant is most obvious at its seedling stage, with its most prominent phenotype being severely impaired  lateral \u001b[01;31m\u001b[Kroot \u001b[m\u001b[Kformation. Its primary roots fail to produce lateral roots in 2-week-old seedlings. However, double mutant seedlings start to generate several lateral roots after ~2 weeks of growth, and their morphological appearance is normal.\t15659631\n",
      "AT1G19220\tCS24625\tnph4-1 arf19 double mutant;  agravitropic response in both hypocotyls and roots; impaired phototropic response in hypocotyls; impaired lateral \u001b[01;31m\u001b[Kroot \u001b[m\u001b[Kformation; small plant size; small and epinastic rosette leaves; reduced auxin sensitivity\t15659631\n",
      "AT1G19220\tCS24626\tThe phenotype of the double mutant is most obvious at its seedling stage, with its most prominent phenotype being severely impaired  lateral \u001b[01;31m\u001b[Kroot \u001b[m\u001b[Kformation. Its primary roots fail to produce lateral roots in 2-week-old seedlings. However, double mutant seedlings start to generate several lateral roots after ~2 weeks of growth, and their morphological appearance is normal.\t15659631\n",
      "AT1G19220\tCS24626\tnph4-1 arf19 double mutant;  agravitropic response in both hypocotyls and roots; impaired phototropic response in hypocotyls; impaired lateral \u001b[01;31m\u001b[Kroot \u001b[m\u001b[Kformation; small plant size; small and epinastic rosette leaves; reduced auxin sensitivity\t15659631\n",
      "AT1G19220\tCS24627\tThe phenotype of the double mutant is most obvious at its seedling stage, with its most prominent phenotype being severely impaired  lateral \u001b[01;31m\u001b[Kroot \u001b[m\u001b[Kformation. Its primary roots fail to produce lateral roots in 2-week-old seedlings. However, double mutant seedlings start to generate several lateral roots after ~2 weeks of growth, and their morphological appearance is normal.\t15659631\n",
      "AT1G19220\tCS24628\tThe phenotype of the double mutant is most obvious at its seedling stage, with its most prominent phenotype being severely impaired  lateral \u001b[01;31m\u001b[Kroot \u001b[m\u001b[Kformation. Its primary roots fail to produce lateral roots in 2-week-old seedlings. However, double mutant seedlings start to generate several lateral roots after ~2 weeks of growth, and their morphological appearance is normal.\t15659631\n",
      "AT1G19220\tCS24629\tThe phenotype of the double mutant is most obvious at its seedling stage, with its most prominent phenotype being severely impaired  lateral \u001b[01;31m\u001b[Kroot \u001b[m\u001b[Kformation. Its primary roots fail to produce lateral roots in 2-week-old seedlings. However, double mutant seedlings start to generate several lateral roots after ~2 weeks of growth, and their morphological appearance is normal.\t15659631\n",
      "AT1G19220\tCS24630\tThe phenotype of the double mutant is most obvious at its seedling stage, with its most prominent phenotype being severely impaired  lateral \u001b[01;31m\u001b[Kroot \u001b[m\u001b[Kformation. Its primary roots fail to produce lateral roots in 2-week-old seedlings. However, double mutant seedlings start to generate several lateral roots after ~2 weeks of growth, and their morphological appearance is normal.\t15659631\n",
      "AT1G19220\tarf7-201 arf19-101\tDark grown seedlings on sirtinol have both long primary roots and long hypocotyls.  More resistant to 2,4-D and IAA than single mutants in both light and dark.  The ethylene resistant \u001b[01;31m\u001b[Kroot \u001b[m\u001b[Kphenotype of arf19-101 is enhanced by arf7-201.\t16461383\n",
      "AT1G21700\tatswi3c-1\tDelayed development,semi-dwarf growth habit, and formation of aberrant rosettes.  The rosette and cauline leaves are severely twisted along the proximodistal axis, leading to a downward curvature of the lateral edges toward the abaxial leaf surface. Cross sections of leaves showed an increased protrusion of mesophyll cell files around the vascular bundles.  The \u001b[01;31m\u001b[Kroot \u001b[m\u001b[Ksystem is greatly reduced, because elongation of primary roots is inhibited. Seedlings develop several side roots and secondary \u001b[01;31m\u001b[Kroot \u001b[m\u001b[Kbranches.\n",
      "AT1G21970\tCS3867\tEmbryo lethal; viviparous embryos with cotyledons partially transformed into leaves; embryos sensitive to abscisic acid; embryos have reduced hypocotyl, cotyledons that remain green late in development; reduced protein and lipid bodies with starch being predominant storage product in mutant embryos. Trichomes form on cotyledons after germination; internal cells of cotyledons enlarge, vacuolate and resemble leaf mesophyll cells; intercellular spaces are prominant in cotyledons; enlarged shoot apical meristem; stomata are found on surface of cotyledons of mutant embryos; mature seeds are desiccation intolerant, however, immature seeds can be rescued before silique drying and germinated to produce seedlings. \u001b[01;31m\u001b[KRoot \u001b[m\u001b[Kapex is active in viviparous seeds; immature mutant embryos germinated prior to desiccation produce plants that appear normal for other characteristics.\t12244233\n"
     ]
    },
    {
     "name": "stdout",
     "output_type": "stream",
     "text": [
      "AT1G21970\tCS8101\tEmbryo lethal; viviparous embryos with cotyledons partially transformed into leaves; embryos sensitive to abscisic acid; embryos have reduced hypocotyl, cotyledons that remain green late in development; reduced protein and lipid bodies with starch being predominant storage product in mutant embryos. Trichomes form on cotyledons after germination; internal cells of cotyledons enlarge, vacuolate and resemble leaf mesophyll cells; intercellular spaces are prominant in cotyledons; enlarged shoot apical meristem; stomata are found on surface of cotyledons of mutant embryos; mature seeds are desiccation intolerant, however, immature seeds can be rescued before silique drying and germinated to produce seedlings. \u001b[01;31m\u001b[KRoot \u001b[m\u001b[Kapex is active in viviparous seeds; immature mutant embryos germinated prior to desiccation produce plants that appear normal for other characteristics.\t12244233\n",
      "AT1G22920\tcsn5a-1\tShorter hypocotyls in the dark, shorter  roots, smaller flowers, a decreased number of \u001b[01;31m\u001b[Kroot \u001b[m\u001b[Khairs in response to jasmonic acid treatment, and altered light and auxin  responses.\t17307927\n",
      "AT1G22920\tcsn5a-2\tShorter hypocotyls in the dark, shorter  roots, smaller flowers, a decreased number of \u001b[01;31m\u001b[Kroot \u001b[m\u001b[Khairs in response to jasmonic acid treatment, and altered light and auxin  responses.\t17307927\n",
      "AT1G23010\tlpr1-1\tLong primary \u001b[01;31m\u001b[Kroot \u001b[m\u001b[Kwhen grown on low Pi.\t17496893\n",
      "AT1G23010\tlpr1-2\tLong primary \u001b[01;31m\u001b[Kroot \u001b[m\u001b[Kwhen grown on low Pi.\t17496893\n",
      "AT1G23310\tggt1-1 (LUC)\tIn the absence of ABA treatment, \u001b[01;31m\u001b[Kroot \u001b[m\u001b[Kelongation of ggt1-1 was reduced nearly 50% compared to wild-type.\t17318317\n",
      "AT1G23320\ttar1-1\tThis mutant does not have any obvious morphological defects and it responds normally to ACC and IAA in hypocotyl and \u001b[01;31m\u001b[Kroot \u001b[m\u001b[Kelongation assays.\t18394997\n",
      "AT1G26870\tSALK_025663\tHomozygotes have a reduced number of columella \u001b[01;31m\u001b[Kroot \u001b[m\u001b[Kcap (COL) and lateral \u001b[01;31m\u001b[Kroot \u001b[m\u001b[Kcap (LRC) cell layers. Meristem length, meristem cell number and \u001b[01;31m\u001b[Kroot \u001b[m\u001b[Klength are comparable to WT. Periclinal division rates in the COL and LRC stem cells are reduced.\t19081078\n",
      "AT1G27320\tahk2-1cu ahk3-1cu\t\u001b[01;31m\u001b[KRoot \u001b[m\u001b[Kelongation unaffected.\t15155880\n",
      "AT1G27320\tahk2-1cu ahk3-1cu ahk4-1cu\tNormal vascular system in adventitious roots, although the hypocotyl and primary \u001b[01;31m\u001b[Kroot \u001b[m\u001b[Kdevelop aborted vascular tissues.\t16357038\n",
      "AT1G27320\tahk2-1cu ahk3-1cu ahk4-1cu\tReduced seedling size with small cotyledons, slightly shortened hypocotyls (65% of wildtype) and significantly reduced \u001b[01;31m\u001b[Kroot \u001b[m\u001b[Klength.\t11479382\n",
      "AT1G27320\tahk2-2tk ahk3-3\tReduced sensitivity to cytokinin in \u001b[01;31m\u001b[Kroot \u001b[m\u001b[Kgrowth assay (exogenous application of cytokinins inhibits wildtype \u001b[01;31m\u001b[Kroot \u001b[m\u001b[Kelongation).\t\n",
      "AT1G27320\tahk2-5 ahk3-7\tDisplays secondary lateral \u001b[01;31m\u001b[Kroot \u001b[m\u001b[Kbranching (not seen in wild-type).\t16361392\n",
      "AT1G27320\tahk2-5 ahk3-7 cre1-2\tIncreased seed size, largely due to increased size of the embryo. Embryonic \u001b[01;31m\u001b[Kroot \u001b[m\u001b[Kepidermal cells increased 15% in number and 30% in size compared to wild-type.\t16361392\n",
      "AT1G27320\tahk3-1cu ahk4-1\t\u001b[01;31m\u001b[KRoot \u001b[m\u001b[Kelongation unaffected.\t15155880\n",
      "AT1G27320\tahk3-7 cre1-2\tDisplays secondary lateral \u001b[01;31m\u001b[Kroot \u001b[m\u001b[Kbranching (not seen in wild-type).\t16361392\n",
      "AT1G27320\tcre1-10 ahk2-1ms ahk3-1ms\tShoot and \u001b[01;31m\u001b[Kroot \u001b[m\u001b[Kgrowth is very slow and leaf number is decreased compared to wildtype.\t\n",
      "AT1G27320\tcre1-10 ahk3-1ms\tReduced sensitivity to cytokinin in \u001b[01;31m\u001b[Kroot \u001b[m\u001b[Kgrowth assay (exogenous application of cytokinins inhibits wildtype \u001b[01;31m\u001b[Kroot \u001b[m\u001b[Kelongation).\t\n",
      "AT1G27320\tstip-d ahk2-2 ahk3-3 cre1-12\tSmall SAM and limited \u001b[01;31m\u001b[Kroot \u001b[m\u001b[Kgrowth.\t20110319\n",
      "AT1G27760\tatsat32\tReduced fertility. Increased \u001b[01;31m\u001b[Kroot \u001b[m\u001b[Klength (longer roots). Hypersensitive to salt stress.\t19210750\n",
      "AT1G28560\tsrd2\ttemperature-sensitive mutant. srd2 seedlings grown at  the permissive temperature (22C) appeared almost normal. At 28C,  both hypocotyl and \u001b[01;31m\u001b[Kroot \u001b[m\u001b[Kexplants of the srd2 mutant could  not establish shoot apical meristems de novo. When  primary \u001b[01;31m\u001b[Kroot \u001b[m\u001b[Ksegments of srd2 were cultured on root-inducing  medium (RIM) at 28C, abnormal lateral \u001b[01;31m\u001b[Kroot \u001b[m\u001b[Kprimordia  lacking functional apical meristems were frequently observed.  except that they had fewer lateral roots than the wild-type  seedlings. At the restrictive temperature (28C however, the development of true leaves and primary roots in srd2  seedlings was severely interrupted. Whereas \u001b[01;31m\u001b[Kroot \u001b[m\u001b[Kexplants of the srd2 mutant formed  calli on callus-inducing medium (CIM), at either 22Cor 28C,  callus formation from srd2 hypocotyl explants was strongly  inhibited at 28C\t16098103\n",
      "AT1G29990\tpdf6-1\tSeedlings exhibit \u001b[01;31m\u001b[Kroot \u001b[m\u001b[Kswelling when grown in the presence of 100 nM oryzalin and have a 25% reduction in hypocotyl length. Reduced cell size is due to defects in the microtubules. Microtubules in the \u001b[01;31m\u001b[Kroot \u001b[m\u001b[Kelongation zone remain disorganized. Also affects epidermal cells which have abnormal division planes.\t19004800\n",
      "AT1G31480\tsgr2-1\tInflorescence stem failed to curve upward even after 6 h of horizontal gravistimulation. Plant size not affected in this mutation, inflorescence stem twisted as the elongated, and the lateral branches twisted downward. Reduced gravitropic response of ethyolated hypocotyls. \u001b[01;31m\u001b[KRoot \u001b[m\u001b[Kgravitropism was normal.\t8819871\n",
      "AT1G31880\tCS6879\tShort-\u001b[01;31m\u001b[Kroot \u001b[m\u001b[Kphenotype, characterized by short primary \u001b[01;31m\u001b[Kroot \u001b[m\u001b[Kand more branched \u001b[01;31m\u001b[Kroot \u001b[m\u001b[Ksystem.\t15031265\n",
      "AT1G31880\tbrx-2\tlateral \u001b[01;31m\u001b[Kroot \u001b[m\u001b[Kformation in the mutant is insensitive to exogenous cytokinin; altered auxin response in lateral \u001b[01;31m\u001b[Kroot \u001b[m\u001b[Kprimordium in the presence of exogenous cytokinin.\t19037657\n",
      "AT1G31880\tbrx-3\tenhanced response to ABA-mediated inhibition of \u001b[01;31m\u001b[Kroot \u001b[m\u001b[Kgrowth\t19201913\n",
      "AT1G31880\tbrxS\tThe roots of brxS seedlings are as short, both when grown in the light or in darkness. In contrast to the \u001b[01;31m\u001b[Kroot \u001b[m\u001b[Ksystem, the shoot system morphology and flowering time of brxS plants resembles the Sav-0 shoot system, which was used as the control. Cell elongation and cell production rate in the \u001b[01;31m\u001b[Kroot \u001b[m\u001b[Kmeristematic and elongation zone were decreased in brxS seedlings, contributing approximately one-third and two-thirds, respectively, to the overall difference in \u001b[01;31m\u001b[Kroot \u001b[m\u001b[Klength as compared with Sav-0 seedlings.\t15031265\n",
      "AT1G32450\tSALK_005099 HOMOZYGOUS\tDefective in xylem transport of nitrate from \u001b[01;31m\u001b[Kroot \u001b[m\u001b[Kto shoot. Morphologically WT when grown on soil. When grown on plates, roots were shorter than WT\t18780802\n",
      "AT1G33280\tbrn1-1; brn2-1\tColumella \u001b[01;31m\u001b[Kroot \u001b[m\u001b[Kcap cells fail to detach.\t20197506\n",
      "AT1G33280\tsmb-3; brn1-1; brn2-1\t\u001b[01;31m\u001b[KRoot \u001b[m\u001b[Kcap cells appear as a mass lacking uniform morphology. Cells can be highly elongated and twisted.   Cells fail to stop elongation and to  adopt the rigid, rectangular morphology of COL cells.   When compared with smb-3, the triple mutant has thesame number of complete LRC layers, and the appearance of the cells in those layers closely resembles that in smb-3. However, partial remains of older LRC layers remain attached to the meristem in the triple mutant, giving it a messy appearance. Remains of old LRC cap layers can be  found still attached to the \u001b[01;31m\u001b[Kroot \u001b[m\u001b[Kalong its whole length.\n",
      "AT1G33290\tbrn1-1; brn2-1\tColumella \u001b[01;31m\u001b[Kroot \u001b[m\u001b[Kcap cells fail to detach.\t20197506\n",
      "AT1G33290\tsmb-3; brn1-1; brn2-1\t\u001b[01;31m\u001b[KRoot \u001b[m\u001b[Kcap cells appear as a mass lacking uniform morphology. Cells can be highly elongated and twisted.   Cells fail to stop elongation and to  adopt the rigid, rectangular morphology of COL cells.   When compared with smb-3, the triple mutant has thesame number of complete LRC layers, and the appearance of the cells in those layers closely resembles that in smb-3. However, partial remains of older LRC layers remain attached to the meristem in the triple mutant, giving it a messy appearance. Remains of old LRC cap layers can be  found still attached to the \u001b[01;31m\u001b[Kroot \u001b[m\u001b[Kalong its whole length.\n"
     ]
    },
    {
     "name": "stdout",
     "output_type": "stream",
     "text": [
      "AT1G34370\tSTOP1-KO\tReduced \u001b[01;31m\u001b[Kroot \u001b[m\u001b[Kgrowth at pH 4.7. Hypersensitive to proton (H+) and aluminum (Al3+) rhizotoxicity.  No expression of the AtALMT1 gene (encoding a malate transporter) and malate excretion after Al treatment.\t17535918\n",
      "AT1G34370\tstop1\tNo \u001b[01;31m\u001b[Kroot \u001b[m\u001b[Kgrowth at pH 4.3.\t17535918\n",
      "AT1G34370\tstop1\tReduced \u001b[01;31m\u001b[Kroot \u001b[m\u001b[Kgrowth at pH 4.7. Hypersensitive to proton (H+) and aluminum (Al3+) rhizotoxicity.  No expression of the AtALMT1 gene (encoding a malate transporter) and malate excretion after Al treatment.\t17535918\n",
      "AT1G35580\tcinv1\tatinvg mutants have reduced \u001b[01;31m\u001b[Kroot \u001b[m\u001b[Kgrowth, reduced invertase activity, and increased expression of antioxidant genes under basal conditions.\t21441406\n",
      "AT1G47056\tvfb1-1/vfb2-1/vfb3-1/vfb4rnai\tDefects in lateral \u001b[01;31m\u001b[Kroot \u001b[m\u001b[Kformation, delayed \u001b[01;31m\u001b[Kroot \u001b[m\u001b[Kelongation and delayed plant growth. Reduced cell size.\t17435085\n",
      "AT1G47720\tSALK_086929\tRetarted \u001b[01;31m\u001b[Kroot \u001b[m\u001b[Kgrowth, variegated and distorted leaves, distorted flowers, partial sterile, and unviable seeds. Increased number but decreased size of mitochondria.\t17189341\n",
      "AT1G47720\tosb1-1\tRetarted \u001b[01;31m\u001b[Kroot \u001b[m\u001b[Kgrowth, variegated and distorted leaves, distorted flowers, partial sterile, and unviable seeds. Increased number but decreased size of mitochondria.\t17189341\n",
      "AT1G48380\trhl1-2\tExtreme dwarf in the dark and in the light.  Reduced \u001b[01;31m\u001b[Kroot \u001b[m\u001b[Khair number.  Trichome size and branching is reduced.  Ploidy defect.\t16339310\n",
      "AT1G48920\tparl1-1\tparl1-1 mutants, initially identified based on their aberrant parallel venation pattern in juvenile leaves, exhibit several other developmental defects. They have abnormal venation patterns in their cotyledons, adult leaves, petals, and sepals. In addition, they are shorter, have abnormal leaf shapes, and have reduced apical dominance, rosette size, fertility, and \u001b[01;31m\u001b[Kroot \u001b[m\u001b[Klength compared to wild type plants.  The normal adaxial/abaxial arrangement of xylem and phloem is maintained in parl1-1 mutant leaves, but, they have a reduced palisade mesophyll layer in the leaf. There are aberrant expression patterns for the DR5:GUS reporter and the Athb8:GUS reporter in the parl1-1 mutants.\t17369435\n",
      "AT1G49240\tact2-1/act8-2\tLacks \u001b[01;31m\u001b[Kroot \u001b[m\u001b[Khairs.\u001b[01;31m\u001b[KRoot \u001b[m\u001b[Khairs initiate but do not develop further.\t19304937\n",
      "AT1G49240\tact8-2\tShort \u001b[01;31m\u001b[Kroot \u001b[m\u001b[Khairs. 50% reduction in \u001b[01;31m\u001b[Kroot \u001b[m\u001b[Khair length compared to wild type.\t19304937\n",
      "AT1G49240\tact8-2/act7-4\tPlants are dwarf. Leaves are smaller and contain fewer cells and fewer lobes than wild type. Reduced number of trichome branches. Petals are narrow. Roots are more severely affected and produce short \u001b[01;31m\u001b[Kroot \u001b[m\u001b[Khairs. Cell files are irregular and the elongation zone is much reduced.\t19304937\n",
      "AT1G51190\tplt3-1/plt2-2/plt1-4\tRootless.Embryonic \u001b[01;31m\u001b[Kroot \u001b[m\u001b[Kdifferentiates 3 days after germination. Adventitious roots arrest 6 days after germination.\t17960244\n",
      "AT1G52340\taba2-2\tMutant showed a similar sensitivity to 25 mM trehalose as wild type (inhibition of \u001b[01;31m\u001b[Kroot \u001b[m\u001b[Kgrowth).\t17031512\n",
      "Binary file Locus_Germplasm_Phenotype_20130122.txt matches\n"
     ]
    }
   ],
   "source": [
    "grep -i \"root\\s\" Locus_Germplasm_Phenotype_20130122.txt"
   ]
  },
  {
   "cell_type": "markdown",
   "metadata": {},
   "source": [
    "Problem 7\n",
    "I have to pipe the outup of the previous exercise to grep that finds the AGI locus in that output and direct it to the new file."
   ]
  },
  {
   "cell_type": "code",
   "execution_count": 79,
   "metadata": {},
   "outputs": [
    {
     "name": "stdout",
     "output_type": "stream",
     "text": [
      "AT1G01550\n",
      "AT1G01550\n",
      "AT1G01550\n",
      "AT1G02970\n",
      "AT1G03000\n",
      "AT1G03060\n",
      "AT1G03060\n",
      "AT1G03060\n",
      "AT1G03060\n",
      "AT1G04020\n"
     ]
    }
   ],
   "source": [
    "grep -E \"root\\s\" Locus_Germplasm_Phenotype_20130122.txt | grep -io \"^AT[1-5]g[0-9][0-9][0-9][0-9][0-9]\" > Root-associated-Loci.txt\n",
    "head -10 Root-associated-Loci.txt"
   ]
  },
  {
   "cell_type": "markdown",
   "metadata": {},
   "source": [
    "Problem 8\n",
    "Same as before but using regular expression to find PubMed ID (and PubMed ID are always in the end so $."
   ]
  },
  {
   "cell_type": "code",
   "execution_count": 97,
   "metadata": {},
   "outputs": [
    {
     "name": "stdout",
     "output_type": "stream",
     "text": [
      "17217459\n",
      "15458645\n",
      "17217459\n",
      "17209125\n",
      "14745029\n",
      "19392685\n",
      "19392685\n",
      "19392685\n",
      "19392685\n",
      "18591352\n"
     ]
    }
   ],
   "source": [
    "grep -E \"root\\s\" Locus_Germplasm_Phenotype_20130122.txt | grep -E -o '[0-9]+$' > Root-associated-Publications.txt\n",
    "head -10 Root-associated-Publications.txt"
   ]
  },
  {
   "cell_type": "markdown",
   "metadata": {},
   "source": [
    "Problem 9\n",
    "First we do the same as in previous experiment. Then we create lines that serch individually for AGI numbers for each chromosome number and store them in indicidual files. Then we add the first line of each file in a new file (doesit.txt). Then we do 'head -5' of this new file and if there is at least one phenotype description containing \"root\" in each chromosome, in this file we will see one AGI number for each chromosome. We dont see it, so the answer is no, only chromosome 1 contains genes associated to chromosome 1."
   ]
  },
  {
   "cell_type": "code",
   "execution_count": 110,
   "metadata": {},
   "outputs": [
    {
     "name": "stdout",
     "output_type": "stream",
     "text": [
      "AT1G01550\n"
     ]
    }
   ],
   "source": [
    "grep -E \"root\\s\" Locus_Germplasm_Phenotype_20130122.txt | grep -io \"^AT[1-5]g[0-9][0-9][0-9][0-9][0-9]\" > Control_experiment.txt\n",
    "head -10 Control_experiment.txt\n",
    "grep -E \"^AT1\" Control_experiment.txt > root1.txt\n",
    "grep -E \"^AT2\" Control_experiment.txt > root2.txt\n",
    "grep -E \"^AT3\" Control_experiment.txt > root3.txt\n",
    "grep -E \"^AT4\" Control_experiment.txt > root4.txt\n",
    "grep -E \"^AT5\" Control_experiment.txt > root5.txt\n",
    "head -1 root1.txt > doesit.txt\n",
    "head -1 root2.txt >> doesit.txt\n",
    "head -1 root3.txt >> doesit.txt\n",
    "head -1 root4.txt >> doesit.txt\n",
    "head -1 root5.txt >> doesit.txt\n",
    "head -5 doesit.txt\n",
    "\n",
    "\n",
    "\n"
   ]
  },
  {
   "cell_type": "markdown",
   "metadata": {},
   "source": [
    "Problem 10\n",
    "It tells us that all the genes responsible for root maintenance are in the chromosome 1."
   ]
  }
 ],
 "metadata": {
  "kernelspec": {
   "display_name": "Bash",
   "language": "bash",
   "name": "bash"
  },
  "language_info": {
   "codemirror_mode": "shell",
   "file_extension": ".sh",
   "mimetype": "text/x-sh",
   "name": "bash"
  }
 },
 "nbformat": 4,
 "nbformat_minor": 2
}
