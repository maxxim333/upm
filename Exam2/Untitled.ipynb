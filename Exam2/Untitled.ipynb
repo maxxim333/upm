{
 "cells": [
  {
   "cell_type": "code",
   "execution_count": null,
   "metadata": {},
   "outputs": [],
   "source": [
    "for line in gemplasm.readlines():\n",
    "    germplasm.readlines.rstrip()\n",
    "    match0bj=re.search(r'AT.G*', line)\n",
    "    if match0bj:\n",
    "        print (match0bj())\n",
    "    else:\n",
    "        print(no)\n",
    "                   "
   ]
  }
 ],
 "metadata": {
  "kernelspec": {
   "display_name": "Python 3",
   "language": "python",
   "name": "python3"
  },
  "language_info": {
   "codemirror_mode": {
    "name": "ipython",
    "version": 3
   },
   "file_extension": ".py",
   "mimetype": "text/x-python",
   "name": "python",
   "nbconvert_exporter": "python",
   "pygments_lexer": "ipython3",
   "version": "3.6.5"
  }
 },
 "nbformat": 4,
 "nbformat_minor": 2
}
